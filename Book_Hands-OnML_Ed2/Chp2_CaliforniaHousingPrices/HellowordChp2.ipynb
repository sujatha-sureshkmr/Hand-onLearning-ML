{
  "nbformat": 4,
  "nbformat_minor": 0,
  "metadata": {
    "colab": {
      "name": "Untitled0.ipynb",
      "provenance": [],
      "authorship_tag": "ABX9TyMgYCC7cgqpZYePXZCTPMCB",
      "include_colab_link": true
    },
    "kernelspec": {
      "name": "python3",
      "display_name": "Python 3"
    }
  },
  "cells": [
    {
      "cell_type": "markdown",
      "metadata": {
        "id": "view-in-github",
        "colab_type": "text"
      },
      "source": [
        "<a href=\"https://colab.research.google.com/github/sujatha-sureshkmr/ReinforcementLearning/blob/master/Book_Hands-OnML_Ed2/Chp2_CaliforniaHousingPrices/HellowordChp2.ipynb\" target=\"_parent\"><img src=\"https://colab.research.google.com/assets/colab-badge.svg\" alt=\"Open In Colab\"/></a>"
      ]
    },
    {
      "cell_type": "code",
      "metadata": {
        "id": "0HKNKLm2tOcF",
        "colab_type": "code",
        "colab": {}
      },
      "source": [
        "#helloworld.py"
      ],
      "execution_count": null,
      "outputs": []
    }
  ]
}